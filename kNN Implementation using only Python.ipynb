{
 "cells": [
  {
   "cell_type": "code",
   "execution_count": 1,
   "metadata": {},
   "outputs": [],
   "source": [
    "'''\n",
    "Implementing kNN (k-Nearest Neighbors Algorithm) using only Python.\n",
    "dataset: https://archive.ics.uci.edu/ml/datasets/Haberman%27s+Survival\n",
    "\n",
    "Dataset Description: The dataset contains cases from a study that was conducted\n",
    "                     between 1958 and 1970 at the University of Chicago's Billings\n",
    "                     Hospital on the survival of patients who had undergone surgery\n",
    "                     for breast cancer.\n",
    "\n",
    "Dataset Attributes Description: 1. Age of patient at time of operation (numerical)\n",
    "                                2. Patient's year of operation (year - 1900, numerical)\n",
    "                                3. Number of positive axillary nodes detected (numerical)\n",
    "                                4. Survival status (class attribute)\n",
    "                                     1 = the patient survived 5 years or longer\n",
    "                                     2 = the patient died within 5 year\n",
    "'''\n",
    "\n",
    "# sample list\n",
    "samples = []"
   ]
  },
  {
   "cell_type": "markdown",
   "metadata": {},
   "source": [
    "#### open dataset (.data file)"
   ]
  },
  {
   "cell_type": "code",
   "execution_count": 2,
   "metadata": {},
   "outputs": [],
   "source": [
    "with open('datasets/haberman.data', 'r') as f:\n",
    "    for line in f.readlines():\n",
    "        attributes = line.replace('\\n', '').split(',')\n",
    "        # converting items from the list of attributes (string to integer)\n",
    "        samples.append([int(attribute) for attribute in attributes])"
   ]
  },
  {
   "cell_type": "markdown",
   "metadata": {},
   "source": [
    "#### Return and Displaying informations about the dataset"
   ]
  },
  {
   "cell_type": "code",
   "execution_count": 3,
   "metadata": {},
   "outputs": [],
   "source": [
    "def dataset_info(samples, verbose=True):\n",
    "    # Displaying number of samples\n",
    "    if verbose:\n",
    "        print(\"Number of samples: {}\".format(len(samples)))\n",
    "    # initializing the counting variables for each label\n",
    "    label_1, label_2 = 0, 0\n",
    "    for sample in samples:\n",
    "        if sample[-1] == 1:\n",
    "            label_1 += 1\n",
    "        else:\n",
    "            label_2 += 1\n",
    "    # displaying the number of samples of each label\n",
    "    if verbose:\n",
    "        print('Number of Samples of Label 1: {}'.format(label_1))\n",
    "        print('Number of Samples of Label 2: {}'.format(label_2))\n",
    "    # return a tuple with the number of samples and the number of samples of each label\n",
    "    return len(samples), label_1, label_2"
   ]
  },
  {
   "cell_type": "code",
   "execution_count": 10,
   "metadata": {
    "scrolled": true
   },
   "outputs": [
    {
     "name": "stdout",
     "output_type": "stream",
     "text": [
      "Number of samples: 306\n",
      "Number of Samples of Label 1: 225\n",
      "Number of Samples of Label 2: 81\n"
     ]
    }
   ],
   "source": [
    "# unpacking tuple of values\n",
    "_, label_1, label_2 = dataset_info(samples, verbose=True)"
   ]
  },
  {
   "cell_type": "code",
   "execution_count": 11,
   "metadata": {},
   "outputs": [],
   "source": [
    "# percentage of training values\n",
    "p = 0.6"
   ]
  },
  {
   "cell_type": "code",
   "execution_count": null,
   "metadata": {},
   "outputs": [],
   "source": []
  }
 ],
 "metadata": {
  "kernelspec": {
   "display_name": "Python 3",
   "language": "python",
   "name": "python3"
  },
  "language_info": {
   "codemirror_mode": {
    "name": "ipython",
    "version": 3
   },
   "file_extension": ".py",
   "mimetype": "text/x-python",
   "name": "python",
   "nbconvert_exporter": "python",
   "pygments_lexer": "ipython3",
   "version": "3.5.4rc1"
  }
 },
 "nbformat": 4,
 "nbformat_minor": 2
}
