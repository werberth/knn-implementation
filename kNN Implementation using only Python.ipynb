{
 "cells": [
  {
   "cell_type": "code",
   "execution_count": 1,
   "metadata": {},
   "outputs": [],
   "source": [
    "'''\n",
    "Implementing kNN (k-Nearest Neighbors Algorithm) using only Python.\n",
    "dataset: https://archive.ics.uci.edu/ml/datasets/Haberman%27s+Survival\n",
    "Dataset Description: The dataset contains cases from a study that was conducted\n",
    "                     between 1958 and 1970 at the University of Chicago's Billings\n",
    "                     Hospital on the survival of patients who had undergone surgery\n",
    "                     for breast cancer.\n",
    "'''\n",
    "\n",
    "# sample list\n",
    "sample = []"
   ]
  }
 ],
 "metadata": {
  "kernelspec": {
   "display_name": "Python 3",
   "language": "python",
   "name": "python3"
  },
  "language_info": {
   "codemirror_mode": {
    "name": "ipython",
    "version": 3
   },
   "file_extension": ".py",
   "mimetype": "text/x-python",
   "name": "python",
   "nbconvert_exporter": "python",
   "pygments_lexer": "ipython3",
   "version": "3.5.4rc1"
  }
 },
 "nbformat": 4,
 "nbformat_minor": 2
}
